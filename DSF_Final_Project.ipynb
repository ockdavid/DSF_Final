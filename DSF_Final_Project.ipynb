{
 "cells": [
  {
   "cell_type": "code",
   "execution_count": 156,
   "metadata": {},
   "outputs": [],
   "source": [
    "import pandas as pd\n",
    "import numpy as np\n",
    "import matplotlib.pyplot as plt\n",
    "import seaborn as sns\n",
    "import pycountry_convert as pc\n",
    "sns.set_style('white')\n",
    "plt.rcParams[\"figure.figsize\"] = (12, 8)"
   ]
  },
  {
   "cell_type": "code",
   "execution_count": 134,
   "metadata": {},
   "outputs": [
    {
     "data": {
      "text/html": [
       "<div>\n",
       "<style scoped>\n",
       "    .dataframe tbody tr th:only-of-type {\n",
       "        vertical-align: middle;\n",
       "    }\n",
       "\n",
       "    .dataframe tbody tr th {\n",
       "        vertical-align: top;\n",
       "    }\n",
       "\n",
       "    .dataframe thead th {\n",
       "        text-align: right;\n",
       "    }\n",
       "</style>\n",
       "<table border=\"1\" class=\"dataframe\">\n",
       "  <thead>\n",
       "    <tr style=\"text-align: right;\">\n",
       "      <th></th>\n",
       "      <th>Entity</th>\n",
       "      <th>Code</th>\n",
       "      <th>Year</th>\n",
       "      <th>avg_years_of_schooling</th>\n",
       "    </tr>\n",
       "  </thead>\n",
       "  <tbody>\n",
       "    <tr>\n",
       "      <th>0</th>\n",
       "      <td>Afghanistan</td>\n",
       "      <td>AFG</td>\n",
       "      <td>1870</td>\n",
       "      <td>0.01</td>\n",
       "    </tr>\n",
       "    <tr>\n",
       "      <th>1</th>\n",
       "      <td>Afghanistan</td>\n",
       "      <td>AFG</td>\n",
       "      <td>1875</td>\n",
       "      <td>0.01</td>\n",
       "    </tr>\n",
       "    <tr>\n",
       "      <th>2</th>\n",
       "      <td>Afghanistan</td>\n",
       "      <td>AFG</td>\n",
       "      <td>1880</td>\n",
       "      <td>0.01</td>\n",
       "    </tr>\n",
       "    <tr>\n",
       "      <th>3</th>\n",
       "      <td>Afghanistan</td>\n",
       "      <td>AFG</td>\n",
       "      <td>1885</td>\n",
       "      <td>0.01</td>\n",
       "    </tr>\n",
       "    <tr>\n",
       "      <th>4</th>\n",
       "      <td>Afghanistan</td>\n",
       "      <td>AFG</td>\n",
       "      <td>1890</td>\n",
       "      <td>0.01</td>\n",
       "    </tr>\n",
       "    <tr>\n",
       "      <th>...</th>\n",
       "      <td>...</td>\n",
       "      <td>...</td>\n",
       "      <td>...</td>\n",
       "      <td>...</td>\n",
       "    </tr>\n",
       "    <tr>\n",
       "      <th>7758</th>\n",
       "      <td>Zimbabwe</td>\n",
       "      <td>ZWE</td>\n",
       "      <td>2013</td>\n",
       "      <td>8.00</td>\n",
       "    </tr>\n",
       "    <tr>\n",
       "      <th>7759</th>\n",
       "      <td>Zimbabwe</td>\n",
       "      <td>ZWE</td>\n",
       "      <td>2014</td>\n",
       "      <td>8.20</td>\n",
       "    </tr>\n",
       "    <tr>\n",
       "      <th>7760</th>\n",
       "      <td>Zimbabwe</td>\n",
       "      <td>ZWE</td>\n",
       "      <td>2015</td>\n",
       "      <td>8.20</td>\n",
       "    </tr>\n",
       "    <tr>\n",
       "      <th>7761</th>\n",
       "      <td>Zimbabwe</td>\n",
       "      <td>ZWE</td>\n",
       "      <td>2016</td>\n",
       "      <td>8.20</td>\n",
       "    </tr>\n",
       "    <tr>\n",
       "      <th>7762</th>\n",
       "      <td>Zimbabwe</td>\n",
       "      <td>ZWE</td>\n",
       "      <td>2017</td>\n",
       "      <td>8.20</td>\n",
       "    </tr>\n",
       "  </tbody>\n",
       "</table>\n",
       "<p>7763 rows × 4 columns</p>\n",
       "</div>"
      ],
      "text/plain": [
       "           Entity Code  Year  avg_years_of_schooling\n",
       "0     Afghanistan  AFG  1870                    0.01\n",
       "1     Afghanistan  AFG  1875                    0.01\n",
       "2     Afghanistan  AFG  1880                    0.01\n",
       "3     Afghanistan  AFG  1885                    0.01\n",
       "4     Afghanistan  AFG  1890                    0.01\n",
       "...           ...  ...   ...                     ...\n",
       "7758     Zimbabwe  ZWE  2013                    8.00\n",
       "7759     Zimbabwe  ZWE  2014                    8.20\n",
       "7760     Zimbabwe  ZWE  2015                    8.20\n",
       "7761     Zimbabwe  ZWE  2016                    8.20\n",
       "7762     Zimbabwe  ZWE  2017                    8.20\n",
       "\n",
       "[7763 rows x 4 columns]"
      ]
     },
     "execution_count": 134,
     "metadata": {},
     "output_type": "execute_result"
    }
   ],
   "source": [
    "mean_years = pd.read_csv('mean-years-of-schooling-long-run.csv', sep=';')\n",
    "mean_years"
   ]
  },
  {
   "cell_type": "code",
   "execution_count": 135,
   "metadata": {},
   "outputs": [
    {
     "data": {
      "text/html": [
       "<div>\n",
       "<style scoped>\n",
       "    .dataframe tbody tr th:only-of-type {\n",
       "        vertical-align: middle;\n",
       "    }\n",
       "\n",
       "    .dataframe tbody tr th {\n",
       "        vertical-align: top;\n",
       "    }\n",
       "\n",
       "    .dataframe thead th {\n",
       "        text-align: right;\n",
       "    }\n",
       "</style>\n",
       "<table border=\"1\" class=\"dataframe\">\n",
       "  <thead>\n",
       "    <tr style=\"text-align: right;\">\n",
       "      <th></th>\n",
       "      <th>Country</th>\n",
       "      <th>Year</th>\n",
       "      <th>Both sexes</th>\n",
       "      <th>Male</th>\n",
       "      <th>Female</th>\n",
       "    </tr>\n",
       "  </thead>\n",
       "  <tbody>\n",
       "    <tr>\n",
       "      <th>0</th>\n",
       "      <td>Afghanistan</td>\n",
       "      <td>2016</td>\n",
       "      <td>245</td>\n",
       "      <td>272</td>\n",
       "      <td>216</td>\n",
       "    </tr>\n",
       "    <tr>\n",
       "      <th>17</th>\n",
       "      <td>Albania</td>\n",
       "      <td>2016</td>\n",
       "      <td>96</td>\n",
       "      <td>122</td>\n",
       "      <td>71</td>\n",
       "    </tr>\n",
       "    <tr>\n",
       "      <th>34</th>\n",
       "      <td>Algeria</td>\n",
       "      <td>2016</td>\n",
       "      <td>95</td>\n",
       "      <td>106</td>\n",
       "      <td>84</td>\n",
       "    </tr>\n",
       "    <tr>\n",
       "      <th>51</th>\n",
       "      <td>Angola</td>\n",
       "      <td>2016</td>\n",
       "      <td>238</td>\n",
       "      <td>275</td>\n",
       "      <td>202</td>\n",
       "    </tr>\n",
       "    <tr>\n",
       "      <th>68</th>\n",
       "      <td>Antigua and Barbuda</td>\n",
       "      <td>2016</td>\n",
       "      <td>120</td>\n",
       "      <td>137</td>\n",
       "      <td>104</td>\n",
       "    </tr>\n",
       "    <tr>\n",
       "      <th>...</th>\n",
       "      <td>...</td>\n",
       "      <td>...</td>\n",
       "      <td>...</td>\n",
       "      <td>...</td>\n",
       "      <td>...</td>\n",
       "    </tr>\n",
       "    <tr>\n",
       "      <th>3026</th>\n",
       "      <td>Venezuela (Bolivarian Republic of)</td>\n",
       "      <td>2016</td>\n",
       "      <td>157</td>\n",
       "      <td>217</td>\n",
       "      <td>93</td>\n",
       "    </tr>\n",
       "    <tr>\n",
       "      <th>3043</th>\n",
       "      <td>Viet Nam</td>\n",
       "      <td>2016</td>\n",
       "      <td>125</td>\n",
       "      <td>182</td>\n",
       "      <td>66</td>\n",
       "    </tr>\n",
       "    <tr>\n",
       "      <th>3060</th>\n",
       "      <td>Yemen</td>\n",
       "      <td>2016</td>\n",
       "      <td>221</td>\n",
       "      <td>244</td>\n",
       "      <td>199</td>\n",
       "    </tr>\n",
       "    <tr>\n",
       "      <th>3077</th>\n",
       "      <td>Zambia</td>\n",
       "      <td>2016</td>\n",
       "      <td>286</td>\n",
       "      <td>324</td>\n",
       "      <td>250</td>\n",
       "    </tr>\n",
       "    <tr>\n",
       "      <th>3094</th>\n",
       "      <td>Zimbabwe</td>\n",
       "      <td>2016</td>\n",
       "      <td>334</td>\n",
       "      <td>371</td>\n",
       "      <td>303</td>\n",
       "    </tr>\n",
       "  </tbody>\n",
       "</table>\n",
       "<p>183 rows × 5 columns</p>\n",
       "</div>"
      ],
      "text/plain": [
       "                                 Country  Year  Both sexes  Male  Female\n",
       "0                            Afghanistan  2016         245   272     216\n",
       "17                               Albania  2016          96   122      71\n",
       "34                               Algeria  2016          95   106      84\n",
       "51                                Angola  2016         238   275     202\n",
       "68                   Antigua and Barbuda  2016         120   137     104\n",
       "...                                  ...   ...         ...   ...     ...\n",
       "3026  Venezuela (Bolivarian Republic of)  2016         157   217      93\n",
       "3043                            Viet Nam  2016         125   182      66\n",
       "3060                               Yemen  2016         221   244     199\n",
       "3077                              Zambia  2016         286   324     250\n",
       "3094                            Zimbabwe  2016         334   371     303\n",
       "\n",
       "[183 rows x 5 columns]"
      ]
     },
     "execution_count": 135,
     "metadata": {},
     "output_type": "execute_result"
    }
   ],
   "source": [
    "ad_mort = pd.read_csv('Adult mortality.csv', skiprows=1)\n",
    "ad_mort_2016 = ad_mort[ad_mort['Year'] == 2016]\n",
    "ad_mort_2016"
   ]
  },
  {
   "cell_type": "code",
   "execution_count": 136,
   "metadata": {},
   "outputs": [],
   "source": [
    "mean_years.rename(columns={'Entity':'Country'},inplace=True)"
   ]
  },
  {
   "cell_type": "code",
   "execution_count": 137,
   "metadata": {},
   "outputs": [
    {
     "data": {
      "text/html": [
       "<div>\n",
       "<style scoped>\n",
       "    .dataframe tbody tr th:only-of-type {\n",
       "        vertical-align: middle;\n",
       "    }\n",
       "\n",
       "    .dataframe tbody tr th {\n",
       "        vertical-align: top;\n",
       "    }\n",
       "\n",
       "    .dataframe thead th {\n",
       "        text-align: right;\n",
       "    }\n",
       "</style>\n",
       "<table border=\"1\" class=\"dataframe\">\n",
       "  <thead>\n",
       "    <tr style=\"text-align: right;\">\n",
       "      <th></th>\n",
       "      <th>Country</th>\n",
       "      <th>Code</th>\n",
       "      <th>Year</th>\n",
       "      <th>avg_years_of_schooling</th>\n",
       "    </tr>\n",
       "  </thead>\n",
       "  <tbody>\n",
       "    <tr>\n",
       "      <th>50</th>\n",
       "      <td>Afghanistan</td>\n",
       "      <td>AFG</td>\n",
       "      <td>2016</td>\n",
       "      <td>3.6</td>\n",
       "    </tr>\n",
       "    <tr>\n",
       "      <th>102</th>\n",
       "      <td>Albania</td>\n",
       "      <td>ALB</td>\n",
       "      <td>2016</td>\n",
       "      <td>10.0</td>\n",
       "    </tr>\n",
       "    <tr>\n",
       "      <th>154</th>\n",
       "      <td>Algeria</td>\n",
       "      <td>DZA</td>\n",
       "      <td>2016</td>\n",
       "      <td>8.0</td>\n",
       "    </tr>\n",
       "    <tr>\n",
       "      <th>172</th>\n",
       "      <td>Andorra</td>\n",
       "      <td>AND</td>\n",
       "      <td>2016</td>\n",
       "      <td>10.2</td>\n",
       "    </tr>\n",
       "    <tr>\n",
       "      <th>191</th>\n",
       "      <td>Angola</td>\n",
       "      <td>AGO</td>\n",
       "      <td>2016</td>\n",
       "      <td>5.1</td>\n",
       "    </tr>\n",
       "    <tr>\n",
       "      <th>...</th>\n",
       "      <td>...</td>\n",
       "      <td>...</td>\n",
       "      <td>...</td>\n",
       "      <td>...</td>\n",
       "    </tr>\n",
       "    <tr>\n",
       "      <th>7569</th>\n",
       "      <td>Venezuela</td>\n",
       "      <td>VEN</td>\n",
       "      <td>2016</td>\n",
       "      <td>10.1</td>\n",
       "    </tr>\n",
       "    <tr>\n",
       "      <th>7605</th>\n",
       "      <td>Vietnam</td>\n",
       "      <td>VNM</td>\n",
       "      <td>2016</td>\n",
       "      <td>8.1</td>\n",
       "    </tr>\n",
       "    <tr>\n",
       "      <th>7657</th>\n",
       "      <td>Yemen</td>\n",
       "      <td>YEM</td>\n",
       "      <td>2016</td>\n",
       "      <td>3.0</td>\n",
       "    </tr>\n",
       "    <tr>\n",
       "      <th>7709</th>\n",
       "      <td>Zambia</td>\n",
       "      <td>ZMB</td>\n",
       "      <td>2016</td>\n",
       "      <td>7.0</td>\n",
       "    </tr>\n",
       "    <tr>\n",
       "      <th>7761</th>\n",
       "      <td>Zimbabwe</td>\n",
       "      <td>ZWE</td>\n",
       "      <td>2016</td>\n",
       "      <td>8.2</td>\n",
       "    </tr>\n",
       "  </tbody>\n",
       "</table>\n",
       "<p>189 rows × 4 columns</p>\n",
       "</div>"
      ],
      "text/plain": [
       "          Country Code  Year  avg_years_of_schooling\n",
       "50    Afghanistan  AFG  2016                     3.6\n",
       "102       Albania  ALB  2016                    10.0\n",
       "154       Algeria  DZA  2016                     8.0\n",
       "172       Andorra  AND  2016                    10.2\n",
       "191        Angola  AGO  2016                     5.1\n",
       "...           ...  ...   ...                     ...\n",
       "7569    Venezuela  VEN  2016                    10.1\n",
       "7605      Vietnam  VNM  2016                     8.1\n",
       "7657        Yemen  YEM  2016                     3.0\n",
       "7709       Zambia  ZMB  2016                     7.0\n",
       "7761     Zimbabwe  ZWE  2016                     8.2\n",
       "\n",
       "[189 rows x 4 columns]"
      ]
     },
     "execution_count": 137,
     "metadata": {},
     "output_type": "execute_result"
    }
   ],
   "source": [
    "mean_years_2016 = mean_years[mean_years['Year'] == 2016]\n",
    "mean_years_2016"
   ]
  },
  {
   "cell_type": "code",
   "execution_count": 138,
   "metadata": {},
   "outputs": [
    {
     "data": {
      "text/html": [
       "<div>\n",
       "<style scoped>\n",
       "    .dataframe tbody tr th:only-of-type {\n",
       "        vertical-align: middle;\n",
       "    }\n",
       "\n",
       "    .dataframe tbody tr th {\n",
       "        vertical-align: top;\n",
       "    }\n",
       "\n",
       "    .dataframe thead th {\n",
       "        text-align: right;\n",
       "    }\n",
       "</style>\n",
       "<table border=\"1\" class=\"dataframe\">\n",
       "  <thead>\n",
       "    <tr style=\"text-align: right;\">\n",
       "      <th></th>\n",
       "      <th>Country</th>\n",
       "      <th>Code</th>\n",
       "      <th>Year_x</th>\n",
       "      <th>avg_years_of_schooling</th>\n",
       "      <th>Year_y</th>\n",
       "      <th>Both sexes</th>\n",
       "      <th>Male</th>\n",
       "      <th>Female</th>\n",
       "    </tr>\n",
       "  </thead>\n",
       "  <tbody>\n",
       "    <tr>\n",
       "      <th>0</th>\n",
       "      <td>Afghanistan</td>\n",
       "      <td>AFG</td>\n",
       "      <td>2016</td>\n",
       "      <td>3.6</td>\n",
       "      <td>2016</td>\n",
       "      <td>245</td>\n",
       "      <td>272</td>\n",
       "      <td>216</td>\n",
       "    </tr>\n",
       "    <tr>\n",
       "      <th>1</th>\n",
       "      <td>Albania</td>\n",
       "      <td>ALB</td>\n",
       "      <td>2016</td>\n",
       "      <td>10.0</td>\n",
       "      <td>2016</td>\n",
       "      <td>96</td>\n",
       "      <td>122</td>\n",
       "      <td>71</td>\n",
       "    </tr>\n",
       "    <tr>\n",
       "      <th>2</th>\n",
       "      <td>Algeria</td>\n",
       "      <td>DZA</td>\n",
       "      <td>2016</td>\n",
       "      <td>8.0</td>\n",
       "      <td>2016</td>\n",
       "      <td>95</td>\n",
       "      <td>106</td>\n",
       "      <td>84</td>\n",
       "    </tr>\n",
       "    <tr>\n",
       "      <th>3</th>\n",
       "      <td>Angola</td>\n",
       "      <td>AGO</td>\n",
       "      <td>2016</td>\n",
       "      <td>5.1</td>\n",
       "      <td>2016</td>\n",
       "      <td>238</td>\n",
       "      <td>275</td>\n",
       "      <td>202</td>\n",
       "    </tr>\n",
       "    <tr>\n",
       "      <th>4</th>\n",
       "      <td>Antigua and Barbuda</td>\n",
       "      <td>ATG</td>\n",
       "      <td>2016</td>\n",
       "      <td>9.2</td>\n",
       "      <td>2016</td>\n",
       "      <td>120</td>\n",
       "      <td>137</td>\n",
       "      <td>104</td>\n",
       "    </tr>\n",
       "    <tr>\n",
       "      <th>...</th>\n",
       "      <td>...</td>\n",
       "      <td>...</td>\n",
       "      <td>...</td>\n",
       "      <td>...</td>\n",
       "      <td>...</td>\n",
       "      <td>...</td>\n",
       "      <td>...</td>\n",
       "      <td>...</td>\n",
       "    </tr>\n",
       "    <tr>\n",
       "      <th>157</th>\n",
       "      <td>Uzbekistan</td>\n",
       "      <td>UZB</td>\n",
       "      <td>2016</td>\n",
       "      <td>11.4</td>\n",
       "      <td>2016</td>\n",
       "      <td>131</td>\n",
       "      <td>167</td>\n",
       "      <td>96</td>\n",
       "    </tr>\n",
       "    <tr>\n",
       "      <th>158</th>\n",
       "      <td>Vanuatu</td>\n",
       "      <td>VUT</td>\n",
       "      <td>2016</td>\n",
       "      <td>6.8</td>\n",
       "      <td>2016</td>\n",
       "      <td>129</td>\n",
       "      <td>155</td>\n",
       "      <td>104</td>\n",
       "    </tr>\n",
       "    <tr>\n",
       "      <th>159</th>\n",
       "      <td>Yemen</td>\n",
       "      <td>YEM</td>\n",
       "      <td>2016</td>\n",
       "      <td>3.0</td>\n",
       "      <td>2016</td>\n",
       "      <td>221</td>\n",
       "      <td>244</td>\n",
       "      <td>199</td>\n",
       "    </tr>\n",
       "    <tr>\n",
       "      <th>160</th>\n",
       "      <td>Zambia</td>\n",
       "      <td>ZMB</td>\n",
       "      <td>2016</td>\n",
       "      <td>7.0</td>\n",
       "      <td>2016</td>\n",
       "      <td>286</td>\n",
       "      <td>324</td>\n",
       "      <td>250</td>\n",
       "    </tr>\n",
       "    <tr>\n",
       "      <th>161</th>\n",
       "      <td>Zimbabwe</td>\n",
       "      <td>ZWE</td>\n",
       "      <td>2016</td>\n",
       "      <td>8.2</td>\n",
       "      <td>2016</td>\n",
       "      <td>334</td>\n",
       "      <td>371</td>\n",
       "      <td>303</td>\n",
       "    </tr>\n",
       "  </tbody>\n",
       "</table>\n",
       "<p>162 rows × 8 columns</p>\n",
       "</div>"
      ],
      "text/plain": [
       "                 Country Code  Year_x  avg_years_of_schooling  Year_y  \\\n",
       "0            Afghanistan  AFG    2016                     3.6    2016   \n",
       "1                Albania  ALB    2016                    10.0    2016   \n",
       "2                Algeria  DZA    2016                     8.0    2016   \n",
       "3                 Angola  AGO    2016                     5.1    2016   \n",
       "4    Antigua and Barbuda  ATG    2016                     9.2    2016   \n",
       "..                   ...  ...     ...                     ...     ...   \n",
       "157           Uzbekistan  UZB    2016                    11.4    2016   \n",
       "158              Vanuatu  VUT    2016                     6.8    2016   \n",
       "159                Yemen  YEM    2016                     3.0    2016   \n",
       "160               Zambia  ZMB    2016                     7.0    2016   \n",
       "161             Zimbabwe  ZWE    2016                     8.2    2016   \n",
       "\n",
       "     Both sexes  Male  Female  \n",
       "0           245   272     216  \n",
       "1            96   122      71  \n",
       "2            95   106      84  \n",
       "3           238   275     202  \n",
       "4           120   137     104  \n",
       "..          ...   ...     ...  \n",
       "157         131   167      96  \n",
       "158         129   155     104  \n",
       "159         221   244     199  \n",
       "160         286   324     250  \n",
       "161         334   371     303  \n",
       "\n",
       "[162 rows x 8 columns]"
      ]
     },
     "execution_count": 138,
     "metadata": {},
     "output_type": "execute_result"
    }
   ],
   "source": [
    "merge_df = pd.merge(mean_years_2016,ad_mort_2016, on='Country')\n",
    "merge_df"
   ]
  },
  {
   "cell_type": "code",
   "execution_count": 139,
   "metadata": {},
   "outputs": [],
   "source": [
    "def country_to_continent(country_name):\n",
    "    country_alpha2 = pc.country_name_to_country_alpha2(country_name)\n",
    "    country_continent_code = pc.country_alpha2_to_continent_code(country_alpha2)\n",
    "    country_continent_name = pc.convert_continent_code_to_continent_name(country_continent_code)\n",
    "    return country_continent_name"
   ]
  },
  {
   "cell_type": "code",
   "execution_count": 140,
   "metadata": {},
   "outputs": [],
   "source": [
    "merge_df['Continent'] = merge_df['Country'].apply(lambda row: country_to_continent(row))"
   ]
  },
  {
   "cell_type": "code",
   "execution_count": 141,
   "metadata": {},
   "outputs": [
    {
     "data": {
      "text/html": [
       "<div>\n",
       "<style scoped>\n",
       "    .dataframe tbody tr th:only-of-type {\n",
       "        vertical-align: middle;\n",
       "    }\n",
       "\n",
       "    .dataframe tbody tr th {\n",
       "        vertical-align: top;\n",
       "    }\n",
       "\n",
       "    .dataframe thead th {\n",
       "        text-align: right;\n",
       "    }\n",
       "</style>\n",
       "<table border=\"1\" class=\"dataframe\">\n",
       "  <thead>\n",
       "    <tr style=\"text-align: right;\">\n",
       "      <th></th>\n",
       "      <th>Country</th>\n",
       "      <th>Code</th>\n",
       "      <th>Year_x</th>\n",
       "      <th>avg_years_of_schooling</th>\n",
       "      <th>Year_y</th>\n",
       "      <th>Both sexes</th>\n",
       "      <th>Male</th>\n",
       "      <th>Female</th>\n",
       "      <th>Continent</th>\n",
       "    </tr>\n",
       "  </thead>\n",
       "  <tbody>\n",
       "    <tr>\n",
       "      <th>0</th>\n",
       "      <td>Afghanistan</td>\n",
       "      <td>AFG</td>\n",
       "      <td>2016</td>\n",
       "      <td>3.6</td>\n",
       "      <td>2016</td>\n",
       "      <td>245</td>\n",
       "      <td>272</td>\n",
       "      <td>216</td>\n",
       "      <td>Asia</td>\n",
       "    </tr>\n",
       "    <tr>\n",
       "      <th>1</th>\n",
       "      <td>Albania</td>\n",
       "      <td>ALB</td>\n",
       "      <td>2016</td>\n",
       "      <td>10.0</td>\n",
       "      <td>2016</td>\n",
       "      <td>96</td>\n",
       "      <td>122</td>\n",
       "      <td>71</td>\n",
       "      <td>Europe</td>\n",
       "    </tr>\n",
       "    <tr>\n",
       "      <th>2</th>\n",
       "      <td>Algeria</td>\n",
       "      <td>DZA</td>\n",
       "      <td>2016</td>\n",
       "      <td>8.0</td>\n",
       "      <td>2016</td>\n",
       "      <td>95</td>\n",
       "      <td>106</td>\n",
       "      <td>84</td>\n",
       "      <td>Africa</td>\n",
       "    </tr>\n",
       "    <tr>\n",
       "      <th>3</th>\n",
       "      <td>Angola</td>\n",
       "      <td>AGO</td>\n",
       "      <td>2016</td>\n",
       "      <td>5.1</td>\n",
       "      <td>2016</td>\n",
       "      <td>238</td>\n",
       "      <td>275</td>\n",
       "      <td>202</td>\n",
       "      <td>Africa</td>\n",
       "    </tr>\n",
       "    <tr>\n",
       "      <th>4</th>\n",
       "      <td>Antigua and Barbuda</td>\n",
       "      <td>ATG</td>\n",
       "      <td>2016</td>\n",
       "      <td>9.2</td>\n",
       "      <td>2016</td>\n",
       "      <td>120</td>\n",
       "      <td>137</td>\n",
       "      <td>104</td>\n",
       "      <td>North America</td>\n",
       "    </tr>\n",
       "    <tr>\n",
       "      <th>...</th>\n",
       "      <td>...</td>\n",
       "      <td>...</td>\n",
       "      <td>...</td>\n",
       "      <td>...</td>\n",
       "      <td>...</td>\n",
       "      <td>...</td>\n",
       "      <td>...</td>\n",
       "      <td>...</td>\n",
       "      <td>...</td>\n",
       "    </tr>\n",
       "    <tr>\n",
       "      <th>157</th>\n",
       "      <td>Uzbekistan</td>\n",
       "      <td>UZB</td>\n",
       "      <td>2016</td>\n",
       "      <td>11.4</td>\n",
       "      <td>2016</td>\n",
       "      <td>131</td>\n",
       "      <td>167</td>\n",
       "      <td>96</td>\n",
       "      <td>Asia</td>\n",
       "    </tr>\n",
       "    <tr>\n",
       "      <th>158</th>\n",
       "      <td>Vanuatu</td>\n",
       "      <td>VUT</td>\n",
       "      <td>2016</td>\n",
       "      <td>6.8</td>\n",
       "      <td>2016</td>\n",
       "      <td>129</td>\n",
       "      <td>155</td>\n",
       "      <td>104</td>\n",
       "      <td>Oceania</td>\n",
       "    </tr>\n",
       "    <tr>\n",
       "      <th>159</th>\n",
       "      <td>Yemen</td>\n",
       "      <td>YEM</td>\n",
       "      <td>2016</td>\n",
       "      <td>3.0</td>\n",
       "      <td>2016</td>\n",
       "      <td>221</td>\n",
       "      <td>244</td>\n",
       "      <td>199</td>\n",
       "      <td>Asia</td>\n",
       "    </tr>\n",
       "    <tr>\n",
       "      <th>160</th>\n",
       "      <td>Zambia</td>\n",
       "      <td>ZMB</td>\n",
       "      <td>2016</td>\n",
       "      <td>7.0</td>\n",
       "      <td>2016</td>\n",
       "      <td>286</td>\n",
       "      <td>324</td>\n",
       "      <td>250</td>\n",
       "      <td>Africa</td>\n",
       "    </tr>\n",
       "    <tr>\n",
       "      <th>161</th>\n",
       "      <td>Zimbabwe</td>\n",
       "      <td>ZWE</td>\n",
       "      <td>2016</td>\n",
       "      <td>8.2</td>\n",
       "      <td>2016</td>\n",
       "      <td>334</td>\n",
       "      <td>371</td>\n",
       "      <td>303</td>\n",
       "      <td>Africa</td>\n",
       "    </tr>\n",
       "  </tbody>\n",
       "</table>\n",
       "<p>162 rows × 9 columns</p>\n",
       "</div>"
      ],
      "text/plain": [
       "                 Country Code  Year_x  avg_years_of_schooling  Year_y  \\\n",
       "0            Afghanistan  AFG    2016                     3.6    2016   \n",
       "1                Albania  ALB    2016                    10.0    2016   \n",
       "2                Algeria  DZA    2016                     8.0    2016   \n",
       "3                 Angola  AGO    2016                     5.1    2016   \n",
       "4    Antigua and Barbuda  ATG    2016                     9.2    2016   \n",
       "..                   ...  ...     ...                     ...     ...   \n",
       "157           Uzbekistan  UZB    2016                    11.4    2016   \n",
       "158              Vanuatu  VUT    2016                     6.8    2016   \n",
       "159                Yemen  YEM    2016                     3.0    2016   \n",
       "160               Zambia  ZMB    2016                     7.0    2016   \n",
       "161             Zimbabwe  ZWE    2016                     8.2    2016   \n",
       "\n",
       "     Both sexes  Male  Female      Continent  \n",
       "0           245   272     216           Asia  \n",
       "1            96   122      71         Europe  \n",
       "2            95   106      84         Africa  \n",
       "3           238   275     202         Africa  \n",
       "4           120   137     104  North America  \n",
       "..          ...   ...     ...            ...  \n",
       "157         131   167      96           Asia  \n",
       "158         129   155     104        Oceania  \n",
       "159         221   244     199           Asia  \n",
       "160         286   324     250         Africa  \n",
       "161         334   371     303         Africa  \n",
       "\n",
       "[162 rows x 9 columns]"
      ]
     },
     "execution_count": 141,
     "metadata": {},
     "output_type": "execute_result"
    }
   ],
   "source": [
    "merge_df"
   ]
  },
  {
   "cell_type": "code",
   "execution_count": 142,
   "metadata": {},
   "outputs": [],
   "source": [
    "merge_df.drop(columns='Year_y',inplace=True)\n",
    "merge_df.rename(columns={'Year_x':'Year',\n",
    "                         'Both sexes':'mort_rate_both_sexes',\n",
    "                         'Male':'mort_rate_male',\n",
    "                         'Female':'mort_rate_female'}, inplace=True)"
   ]
  },
  {
   "cell_type": "code",
   "execution_count": 143,
   "metadata": {},
   "outputs": [
    {
     "data": {
      "text/html": [
       "<div>\n",
       "<style scoped>\n",
       "    .dataframe tbody tr th:only-of-type {\n",
       "        vertical-align: middle;\n",
       "    }\n",
       "\n",
       "    .dataframe tbody tr th {\n",
       "        vertical-align: top;\n",
       "    }\n",
       "\n",
       "    .dataframe thead th {\n",
       "        text-align: right;\n",
       "    }\n",
       "</style>\n",
       "<table border=\"1\" class=\"dataframe\">\n",
       "  <thead>\n",
       "    <tr style=\"text-align: right;\">\n",
       "      <th></th>\n",
       "      <th>Country</th>\n",
       "      <th>Code</th>\n",
       "      <th>Year</th>\n",
       "      <th>avg_years_of_schooling</th>\n",
       "      <th>mort_rate_both_sexes</th>\n",
       "      <th>mort_rate_male</th>\n",
       "      <th>mort_rate_female</th>\n",
       "      <th>Continent</th>\n",
       "    </tr>\n",
       "  </thead>\n",
       "  <tbody>\n",
       "    <tr>\n",
       "      <th>0</th>\n",
       "      <td>Afghanistan</td>\n",
       "      <td>AFG</td>\n",
       "      <td>2016</td>\n",
       "      <td>3.6</td>\n",
       "      <td>245</td>\n",
       "      <td>272</td>\n",
       "      <td>216</td>\n",
       "      <td>Asia</td>\n",
       "    </tr>\n",
       "    <tr>\n",
       "      <th>1</th>\n",
       "      <td>Albania</td>\n",
       "      <td>ALB</td>\n",
       "      <td>2016</td>\n",
       "      <td>10.0</td>\n",
       "      <td>96</td>\n",
       "      <td>122</td>\n",
       "      <td>71</td>\n",
       "      <td>Europe</td>\n",
       "    </tr>\n",
       "    <tr>\n",
       "      <th>2</th>\n",
       "      <td>Algeria</td>\n",
       "      <td>DZA</td>\n",
       "      <td>2016</td>\n",
       "      <td>8.0</td>\n",
       "      <td>95</td>\n",
       "      <td>106</td>\n",
       "      <td>84</td>\n",
       "      <td>Africa</td>\n",
       "    </tr>\n",
       "    <tr>\n",
       "      <th>3</th>\n",
       "      <td>Angola</td>\n",
       "      <td>AGO</td>\n",
       "      <td>2016</td>\n",
       "      <td>5.1</td>\n",
       "      <td>238</td>\n",
       "      <td>275</td>\n",
       "      <td>202</td>\n",
       "      <td>Africa</td>\n",
       "    </tr>\n",
       "    <tr>\n",
       "      <th>4</th>\n",
       "      <td>Antigua and Barbuda</td>\n",
       "      <td>ATG</td>\n",
       "      <td>2016</td>\n",
       "      <td>9.2</td>\n",
       "      <td>120</td>\n",
       "      <td>137</td>\n",
       "      <td>104</td>\n",
       "      <td>North America</td>\n",
       "    </tr>\n",
       "    <tr>\n",
       "      <th>...</th>\n",
       "      <td>...</td>\n",
       "      <td>...</td>\n",
       "      <td>...</td>\n",
       "      <td>...</td>\n",
       "      <td>...</td>\n",
       "      <td>...</td>\n",
       "      <td>...</td>\n",
       "      <td>...</td>\n",
       "    </tr>\n",
       "    <tr>\n",
       "      <th>157</th>\n",
       "      <td>Uzbekistan</td>\n",
       "      <td>UZB</td>\n",
       "      <td>2016</td>\n",
       "      <td>11.4</td>\n",
       "      <td>131</td>\n",
       "      <td>167</td>\n",
       "      <td>96</td>\n",
       "      <td>Asia</td>\n",
       "    </tr>\n",
       "    <tr>\n",
       "      <th>158</th>\n",
       "      <td>Vanuatu</td>\n",
       "      <td>VUT</td>\n",
       "      <td>2016</td>\n",
       "      <td>6.8</td>\n",
       "      <td>129</td>\n",
       "      <td>155</td>\n",
       "      <td>104</td>\n",
       "      <td>Oceania</td>\n",
       "    </tr>\n",
       "    <tr>\n",
       "      <th>159</th>\n",
       "      <td>Yemen</td>\n",
       "      <td>YEM</td>\n",
       "      <td>2016</td>\n",
       "      <td>3.0</td>\n",
       "      <td>221</td>\n",
       "      <td>244</td>\n",
       "      <td>199</td>\n",
       "      <td>Asia</td>\n",
       "    </tr>\n",
       "    <tr>\n",
       "      <th>160</th>\n",
       "      <td>Zambia</td>\n",
       "      <td>ZMB</td>\n",
       "      <td>2016</td>\n",
       "      <td>7.0</td>\n",
       "      <td>286</td>\n",
       "      <td>324</td>\n",
       "      <td>250</td>\n",
       "      <td>Africa</td>\n",
       "    </tr>\n",
       "    <tr>\n",
       "      <th>161</th>\n",
       "      <td>Zimbabwe</td>\n",
       "      <td>ZWE</td>\n",
       "      <td>2016</td>\n",
       "      <td>8.2</td>\n",
       "      <td>334</td>\n",
       "      <td>371</td>\n",
       "      <td>303</td>\n",
       "      <td>Africa</td>\n",
       "    </tr>\n",
       "  </tbody>\n",
       "</table>\n",
       "<p>162 rows × 8 columns</p>\n",
       "</div>"
      ],
      "text/plain": [
       "                 Country Code  Year  avg_years_of_schooling  \\\n",
       "0            Afghanistan  AFG  2016                     3.6   \n",
       "1                Albania  ALB  2016                    10.0   \n",
       "2                Algeria  DZA  2016                     8.0   \n",
       "3                 Angola  AGO  2016                     5.1   \n",
       "4    Antigua and Barbuda  ATG  2016                     9.2   \n",
       "..                   ...  ...   ...                     ...   \n",
       "157           Uzbekistan  UZB  2016                    11.4   \n",
       "158              Vanuatu  VUT  2016                     6.8   \n",
       "159                Yemen  YEM  2016                     3.0   \n",
       "160               Zambia  ZMB  2016                     7.0   \n",
       "161             Zimbabwe  ZWE  2016                     8.2   \n",
       "\n",
       "     mort_rate_both_sexes  mort_rate_male  mort_rate_female      Continent  \n",
       "0                     245             272               216           Asia  \n",
       "1                      96             122                71         Europe  \n",
       "2                      95             106                84         Africa  \n",
       "3                     238             275               202         Africa  \n",
       "4                     120             137               104  North America  \n",
       "..                    ...             ...               ...            ...  \n",
       "157                   131             167                96           Asia  \n",
       "158                   129             155               104        Oceania  \n",
       "159                   221             244               199           Asia  \n",
       "160                   286             324               250         Africa  \n",
       "161                   334             371               303         Africa  \n",
       "\n",
       "[162 rows x 8 columns]"
      ]
     },
     "execution_count": 143,
     "metadata": {},
     "output_type": "execute_result"
    }
   ],
   "source": [
    "merge_df"
   ]
  },
  {
   "cell_type": "code",
   "execution_count": 144,
   "metadata": {},
   "outputs": [],
   "source": [
    "def get_data(year):\n",
    "    mortality = ad_mort[ad_mort['Year'] == year]\n",
    "    schooling = mean_years[mean_years['Year'] == year]\n",
    "    merge_df = pd.merge(schooling,mortality, on='Country')\n",
    "    merge_df['Continent'] = merge_df['Country'].apply(lambda row: country_to_continent(row))\n",
    "    merge_df.drop(columns='Year_y',inplace=True)\n",
    "    merge_df.rename(columns={'Year_x':'Year',\n",
    "                             'Both sexes':'mort_rate_both_sexes',\n",
    "                             'Male':'mort_rate_male',\n",
    "                             'Female':'mort_rate_female'}, inplace=True)\n",
    "    return merge_df\n",
    "    "
   ]
  },
  {
   "cell_type": "code",
   "execution_count": 145,
   "metadata": {},
   "outputs": [],
   "source": [
    "def list_data(years):\n",
    "    df_list = []\n",
    "    for x in years:\n",
    "        df_list.append(get_data(x))\n",
    "    \n",
    "    return df_list\n"
   ]
  },
  {
   "cell_type": "code",
   "execution_count": 146,
   "metadata": {},
   "outputs": [
    {
     "data": {
      "text/plain": [
       "[Empty DataFrame\n",
       " Columns: [Code, Year, avg_years_of_schooling, Country, mort_rate_both_sexes, mort_rate_male, mort_rate_female, Continent]\n",
       " Index: []]"
      ]
     },
     "execution_count": 146,
     "metadata": {},
     "output_type": "execute_result"
    }
   ],
   "source": [
    "years_list = [range(2010,2017)]\n",
    "list_data(years_list)"
   ]
  },
  {
   "cell_type": "code",
   "execution_count": 147,
   "metadata": {},
   "outputs": [],
   "source": [
    "df_2010 = get_data(2010)\n",
    "df_2011 = get_data(2011)\n",
    "df_2012 = get_data(2012)\n",
    "df_2013 = get_data(2013)\n",
    "df_2014 = get_data(2014)\n",
    "df_2015 = get_data(2015)\n",
    "df_2016 = get_data(2016)"
   ]
  },
  {
   "cell_type": "code",
   "execution_count": 159,
   "metadata": {},
   "outputs": [
    {
     "data": {
      "text/plain": [
       "Text(0.5, 1.0, 'Comparison of Mortality and Average Years of Schooling per Continent')"
      ]
     },
     "execution_count": 159,
     "metadata": {},
     "output_type": "execute_result"
    },
    {
     "data": {
      "image/png": "[encoded data removed]",
      "text/plain": [
       "<Figure size 1200x800 with 1 Axes>"
      ]
     },
     "metadata": {},
     "output_type": "display_data"
    }
   ],
   "source": [
    "ax = sns.scatterplot(df_2010, x='avg_years_of_schooling',y='mort_rate_both_sexes',\n",
    "                    hue='Continent', size=(df_2010['mort_rate_both_sexes']),\n",
    "                    sizes=(10,600), alpha=.8, palette='muted')\n",
    "sns.move_legend(ax,\"upper left\", bbox_to_anchor=(1, 1))\n",
    "plt.title('Comparison of Mortality and Average Years of Schooling per Continent')"
   ]
  },
  {
   "cell_type": "code",
   "execution_count": 164,
   "metadata": {},
   "outputs": [
    {
     "data": {
      "application/vnd.plotly.v1+json": {
       "config": {
        "plotlyServerURL": "https://plot.ly"
       },
       "data": [
        {
         "hovertemplate": "x=%{x}<br>y=%{y}<br>size=%{marker.size}<extra></extra>",
         "legendgroup": "",
         "marker": {
          "color": "#636efa",
          "size": [
           255,
           103,
           104,
           270,
           135,
           119,
           138,
           63,
           74,
           132,
           159,
           66,
           143,
           108,
           226,
           81,
           182,
           257,
           228,
           101,
           331,
           154,
           143,
           277,
           323,
           196,
           355,
           69,
           458,
           373,
           94,
           88,
           146,
           245,
           300,
           106,
           106,
           97,
           65,
           98,
           83,
           271,
           180,
           134,
           178,
           192,
           335,
           293,
           134,
           503,
           262,
           200,
           88,
           85,
           288,
           282,
           157,
           78,
           269,
           74,
           154,
           186,
           286,
           298,
           258,
           683,
           156,
           152,
           53,
           194,
           187,
           144,
           65,
           60,
           58,
           139,
           61,
           116,
           243,
           285,
           207,
           84,
           209,
           178,
           95,
           478,
           258,
           128,
           188,
           67,
           247,
           366,
           132,
           71,
           283,
           58,
           213,
           162,
           136,
           234,
           112,
           82,
           409,
           215,
           328,
           178,
           64,
           71,
           160,
           269,
           378,
           65,
           107,
           175,
           117,
           235,
           152,
           132,
           203,
           131,
           86,
           65,
           155,
           239,
           153,
           163,
           134,
           205,
           97,
           209,
           115,
           181,
           415,
           60,
           122,
           87,
           170,
           416,
           354,
           65,
           131,
           243,
           194,
           58,
           57,
           135,
           161,
           306,
           142,
           179,
           99,
           116,
           188,
           364,
           218,
           81,
           118,
           145,
           146,
           234,
           364,
           500
          ],
          "sizemode": "area",
          "sizeref": 1.7075,
          "symbol": "circle"
         },
         "mode": "markers",
         "name": "",
         "orientation": "v",
         "showlegend": false,
         "type": "scatter",
         "x": [
          3.2,
          9.3,
          7.1,
          4.7,
          9.2,
          9.8,
          11.1,
          12.4,
          11.8,
          10.7,
          10.9,
          8.4,
          4.9,
          9.4,
          12,
          11.1,
          10.5,
          2.8,
          2.3,
          7.1,
          8.9,
          6.9,
          10.6,
          1.4,
          2.6,
          4.4,
          5.3,
          12.6,
          3.6,
          1.9,
          9.8,
          7.3,
          7.4,
          4.2,
          6.1,
          8.3,
          10.8,
          11,
          11.5,
          12.4,
          12.7,
          4,
          7.3,
          7.9,
          6.5,
          7.1,
          5.5,
          3.9,
          12.5,
          5.7,
          2.3,
          9.6,
          12.3,
          10.9,
          7.6,
          2.8,
          12.2,
          13.8,
          6.7,
          10.3,
          8.3,
          4.9,
          1.6,
          2.6,
          8.1,
          4.7,
          5.4,
          11.9,
          10.6,
          5.4,
          7.4,
          6.4,
          12.2,
          12.6,
          9.7,
          8.9,
          11.5,
          9.8,
          11.4,
          6.1,
          7.9,
          6.8,
          10.6,
          12.5,
          7.9,
          5.6,
          4.1,
          7.3,
          11.6,
          11.8,
          6,
          4.3,
          9.8,
          4.9,
          2,
          10.3,
          3.8,
          8.2,
          8,
          9.5,
          11.1,
          4.2,
          3.2,
          4.1,
          6.2,
          3.3,
          12,
          12,
          6,
          1.4,
          5.2,
          12.7,
          7.9,
          4.7,
          9.3,
          4,
          7.7,
          8.4,
          8.9,
          12.2,
          8.1,
          8.4,
          10.7,
          3.8,
          8.4,
          8.3,
          10,
          4.9,
          8.9,
          2.4,
          10.4,
          8.1,
          3.1,
          11.2,
          11.6,
          12.1,
          5.1,
          10,
          4.8,
          9.4,
          10.8,
          3.1,
          7.7,
          12.3,
          13.3,
          10.9,
          7.7,
          4.3,
          10.7,
          10.7,
          6.7,
          6.7,
          9.9,
          5.7,
          11.3,
          9.9,
          8.4,
          10.7,
          6.7,
          2.6,
          6.6,
          7.3
         ],
         "xaxis": "x",
         "y": [
          248,
          103,
          103,
          260,
          128,
          118,
          135,
          62,
          72,
          129,
          158,
          66,
          141,
          106,
          227,
          81,
          182,
          254,
          225,
          100,
          319,
          153,
          141,
          272,
          315,
          191,
          354,
          67,
          450,
          370,
          90,
          86,
          140,
          241,
          291,
          100,
          103,
          92,
          58,
          96,
          78,
          266,
          175,
          130,
          175,
          189,
          335,
          285,
          136,
          469,
          249,
          197,
          84,
          83,
          282,
          275,
          153,
          75,
          263,
          73,
          150,
          180,
          282,
          296,
          263,
          256,
          153,
          147,
          51,
          191,
          185,
          144,
          67,
          59,
          58,
          139,
          62,
          115,
          232,
          265,
          206,
          84,
          196,
          167,
          111,
          467,
          247,
          156,
          184,
          66,
          241,
          344,
          130,
          66,
          281,
          59,
          211,
          156,
          133,
          227,
          111,
          78,
          406,
          211,
          310,
          173,
          64,
          71,
          158,
          267,
          376,
          66,
          105,
          171,
          117,
          235,
          150,
          130,
          202,
          128,
          84,
          65,
          141,
          228,
          153,
          167,
          127,
          202,
          95,
          204,
          113,
          177,
          403,
          59,
          120,
          82,
          165,
          397,
          349,
          63,
          131,
          241,
          191,
          58,
          54,
          133,
          158,
          291,
          141,
          180,
          98,
          114,
          190,
          348,
          209,
          80,
          117,
          144,
          142,
          234,
          342,
          440
         ],
         "yaxis": "y"
        }
       ],
       "layout": {
        "legend": {
         "itemsizing": "constant",
         "tracegroupgap": 0
        },
        "margin": {
         "t": 60
        },
        "template": {
         "data": {
          "bar": [
           {
            "error_x": {
             "color": "#2a3f5f"
            },
            "error_y": {
             "color": "#2a3f5f"
            },
            "marker": {
             "line": {
              "color": "#E5ECF6",
              "width": 0.5
             },
             "pattern": {
              "fillmode": "overlay",
              "size": 10,
              "solidity": 0.2
             }
            },
            "type": "bar"
           }
          ],
          "barpolar": [
           {
            "marker": {
             "line": {
              "color": "#E5ECF6",
              "width": 0.5
             },
             "pattern": {
              "fillmode": "overlay",
              "size": 10,
              "solidity": 0.2
             }
            },
            "type": "barpolar"
           }
          ],
          "carpet": [
           {
            "aaxis": {
             "endlinecolor": "#2a3f5f",
             "gridcolor": "white",
             "linecolor": "white",
             "minorgridcolor": "white",
             "startlinecolor": "#2a3f5f"
            },
            "baxis": {
             "endlinecolor": "#2a3f5f",
             "gridcolor": "white",
             "linecolor": "white",
             "minorgridcolor": "white",
             "startlinecolor": "#2a3f5f"
            },
            "type": "carpet"
           }
          ],
          "choropleth": [
           {
            "colorbar": {
             "outlinewidth": 0,
             "ticks": ""
            },
            "type": "choropleth"
           }
          ],
          "contour": [
           {
            "colorbar": {
             "outlinewidth": 0,
             "ticks": ""
            },
            "colorscale": [
             [
              0,
              "#0d0887"
             ],
             [
              0.1111111111111111,
              "#46039f"
             ],
             [
              0.2222222222222222,
              "#7201a8"
             ],
             [
              0.3333333333333333,
              "#9c179e"
             ],
             [
              0.4444444444444444,
              "#bd3786"
             ],
             [
              0.5555555555555556,
              "#d8576b"
             ],
             [
              0.6666666666666666,
              "#ed7953"
             ],
             [
              0.7777777777777778,
              "#fb9f3a"
             ],
             [
              0.8888888888888888,
              "#fdca26"
             ],
             [
              1,
              "#f0f921"
             ]
            ],
            "type": "contour"
           }
          ],
          "contourcarpet": [
           {
            "colorbar": {
             "outlinewidth": 0,
             "ticks": ""
            },
            "type": "contourcarpet"
           }
          ],
          "heatmap": [
           {
            "colorbar": {
             "outlinewidth": 0,
             "ticks": ""
            },
            "colorscale": [
             [
              0,
              "#0d0887"
             ],
             [
              0.1111111111111111,
              "#46039f"
             ],
             [
              0.2222222222222222,
              "#7201a8"
             ],
             [
              0.3333333333333333,
              "#9c179e"
             ],
             [
              0.4444444444444444,
              "#bd3786"
             ],
             [
              0.5555555555555556,
              "#d8576b"
             ],
             [
              0.6666666666666666,
              "#ed7953"
             ],
             [
              0.7777777777777778,
              "#fb9f3a"
             ],
             [
              0.8888888888888888,
              "#fdca26"
             ],
             [
              1,
              "#f0f921"
             ]
            ],
            "type": "heatmap"
           }
          ],
          "heatmapgl": [
           {
            "colorbar": {
             "outlinewidth": 0,
             "ticks": ""
            },
            "colorscale": [
             [
              0,
              "#0d0887"
             ],
             [
              0.1111111111111111,
              "#46039f"
             ],
             [
              0.2222222222222222,
              "#7201a8"
             ],
             [
              0.3333333333333333,
              "#9c179e"
             ],
             [
              0.4444444444444444,
              "#bd3786"
             ],
             [
              0.5555555555555556,
              "#d8576b"
             ],
             [
              0.6666666666666666,
              "#ed7953"
             ],
             [
              0.7777777777777778,
              "#fb9f3a"
             ],
             [
              0.8888888888888888,
              "#fdca26"
             ],
             [
              1,
              "#f0f921"
             ]
            ],
            "type": "heatmapgl"
           }
          ],
          "histogram": [
           {
            "marker": {
             "pattern": {
              "fillmode": "overlay",
              "size": 10,
              "solidity": 0.2
             }
            },
            "type": "histogram"
           }
          ],
          "histogram2d": [
           {
            "colorbar": {
             "outlinewidth": 0,
             "ticks": ""
            },
            "colorscale": [
             [
              0,
              "#0d0887"
             ],
             [
              0.1111111111111111,
              "#46039f"
             ],
             [
              0.2222222222222222,
              "#7201a8"
             ],
             [
              0.3333333333333333,
              "#9c179e"
             ],
             [
              0.4444444444444444,
              "#bd3786"
             ],
             [
              0.5555555555555556,
              "#d8576b"
             ],
             [
              0.6666666666666666,
              "#ed7953"
             ],
             [
              0.7777777777777778,
              "#fb9f3a"
             ],
             [
              0.8888888888888888,
              "#fdca26"
             ],
             [
              1,
              "#f0f921"
             ]
            ],
            "type": "histogram2d"
           }
          ],
          "histogram2dcontour": [
           {
            "colorbar": {
             "outlinewidth": 0,
             "ticks": ""
            },
            "colorscale": [
             [
              0,
              "#0d0887"
             ],
             [
              0.1111111111111111,
              "#46039f"
             ],
             [
              0.2222222222222222,
              "#7201a8"
             ],
             [
              0.3333333333333333,
              "#9c179e"
             ],
             [
              0.4444444444444444,
              "#bd3786"
             ],
             [
              0.5555555555555556,
              "#d8576b"
             ],
             [
              0.6666666666666666,
              "#ed7953"
             ],
             [
              0.7777777777777778,
              "#fb9f3a"
             ],
             [
              0.8888888888888888,
              "#fdca26"
             ],
             [
              1,
              "#f0f921"
             ]
            ],
            "type": "histogram2dcontour"
           }
          ],
          "mesh3d": [
           {
            "colorbar": {
             "outlinewidth": 0,
             "ticks": ""
            },
            "type": "mesh3d"
           }
          ],
          "parcoords": [
           {
            "line": {
             "colorbar": {
              "outlinewidth": 0,
              "ticks": ""
             }
            },
            "type": "parcoords"
           }
          ],
          "pie": [
           {
            "automargin": true,
            "type": "pie"
           }
          ],
          "scatter": [
           {
            "fillpattern": {
             "fillmode": "overlay",
             "size": 10,
             "solidity": 0.2
            },
            "type": "scatter"
           }
          ],
          "scatter3d": [
           {
            "line": {
             "colorbar": {
              "outlinewidth": 0,
              "ticks": ""
             }
            },
            "marker": {
             "colorbar": {
              "outlinewidth": 0,
              "ticks": ""
             }
            },
            "type": "scatter3d"
           }
          ],
          "scattercarpet": [
           {
            "marker": {
             "colorbar": {
              "outlinewidth": 0,
              "ticks": ""
             }
            },
            "type": "scattercarpet"
           }
          ],
          "scattergeo": [
           {
            "marker": {
             "colorbar": {
              "outlinewidth": 0,
              "ticks": ""
             }
            },
            "type": "scattergeo"
           }
          ],
          "scattergl": [
           {
            "marker": {
             "colorbar": {
              "outlinewidth": 0,
              "ticks": ""
             }
            },
            "type": "scattergl"
           }
          ],
          "scattermapbox": [
           {
            "marker": {
             "colorbar": {
              "outlinewidth": 0,
              "ticks": ""
             }
            },
            "type": "scattermapbox"
           }
          ],
          "scatterpolar": [
           {
            "marker": {
             "colorbar": {
              "outlinewidth": 0,
              "ticks": ""
             }
            },
            "type": "scatterpolar"
           }
          ],
          "scatterpolargl": [
           {
            "marker": {
             "colorbar": {
              "outlinewidth": 0,
              "ticks": ""
             }
            },
            "type": "scatterpolargl"
           }
          ],
          "scatterternary": [
           {
            "marker": {
             "colorbar": {
              "outlinewidth": 0,
              "ticks": ""
             }
            },
            "type": "scatterternary"
           }
          ],
          "surface": [
           {
            "colorbar": {
             "outlinewidth": 0,
             "ticks": ""
            },
            "colorscale": [
             [
              0,
              "#0d0887"
             ],
             [
              0.1111111111111111,
              "#46039f"
             ],
             [
              0.2222222222222222,
              "#7201a8"
             ],
             [
              0.3333333333333333,
              "#9c179e"
             ],
             [
              0.4444444444444444,
              "#bd3786"
             ],
             [
              0.5555555555555556,
              "#d8576b"
             ],
             [
              0.6666666666666666,
              "#ed7953"
             ],
             [
              0.7777777777777778,
              "#fb9f3a"
             ],
             [
              0.8888888888888888,
              "#fdca26"
             ],
             [
              1,
              "#f0f921"
             ]
            ],
            "type": "surface"
           }
          ],
          "table": [
           {
            "cells": {
             "fill": {
              "color": "#EBF0F8"
             },
             "line": {
              "color": "white"
             }
            },
            "header": {
             "fill": {
              "color": "#C8D4E3"
             },
             "line": {
              "color": "white"
             }
            },
            "type": "table"
           }
          ]
         },
         "layout": {
          "annotationdefaults": {
           "arrowcolor": "#2a3f5f",
           "arrowhead": 0,
           "arrowwidth": 1
          },
          "autotypenumbers": "strict",
          "coloraxis": {
           "colorbar": {
            "outlinewidth": 0,
            "ticks": ""
           }
          },
          "colorscale": {
           "diverging": [
            [
             0,
             "#8e0152"
            ],
            [
             0.1,
             "#c51b7d"
            ],
            [
             0.2,
             "#de77ae"
            ],
            [
             0.3,
             "#f1b6da"
            ],
            [
             0.4,
             "#fde0ef"
            ],
            [
             0.5,
             "#f7f7f7"
            ],
            [
             0.6,
             "#e6f5d0"
            ],
            [
             0.7,
             "#b8e186"
            ],
            [
             0.8,
             "#7fbc41"
            ],
            [
             0.9,
             "#4d9221"
            ],
            [
             1,
             "#276419"
            ]
           ],
           "sequential": [
            [
             0,
             "#0d0887"
            ],
            [
             0.1111111111111111,
             "#46039f"
            ],
            [
             0.2222222222222222,
             "#7201a8"
            ],
            [
             0.3333333333333333,
             "#9c179e"
            ],
            [
             0.4444444444444444,
             "#bd3786"
            ],
            [
             0.5555555555555556,
             "#d8576b"
            ],
            [
             0.6666666666666666,
             "#ed7953"
            ],
            [
             0.7777777777777778,
             "#fb9f3a"
            ],
            [
             0.8888888888888888,
             "#fdca26"
            ],
            [
             1,
             "#f0f921"
            ]
           ],
           "sequentialminus": [
            [
             0,
             "#0d0887"
            ],
            [
             0.1111111111111111,
             "#46039f"
            ],
            [
             0.2222222222222222,
             "#7201a8"
            ],
            [
             0.3333333333333333,
             "#9c179e"
            ],
            [
             0.4444444444444444,
             "#bd3786"
            ],
            [
             0.5555555555555556,
             "#d8576b"
            ],
            [
             0.6666666666666666,
             "#ed7953"
            ],
            [
             0.7777777777777778,
             "#fb9f3a"
            ],
            [
             0.8888888888888888,
             "#fdca26"
            ],
            [
             1,
             "#f0f921"
            ]
           ]
          },
          "colorway": [
           "#636efa",
           "#EF553B",
           "#00cc96",
           "#ab63fa",
           "#FFA15A",
           "#19d3f3",
           "#FF6692",
           "#B6E880",
           "#FF97FF",
           "#FECB52"
          ],
          "font": {
           "color": "#2a3f5f"
          },
          "geo": {
           "bgcolor": "white",
           "lakecolor": "white",
           "landcolor": "#E5ECF6",
           "showlakes": true,
           "showland": true,
           "subunitcolor": "white"
          },
          "hoverlabel": {
           "align": "left"
          },
          "hovermode": "closest",
          "mapbox": {
           "style": "light"
          },
          "paper_bgcolor": "white",
          "plot_bgcolor": "#E5ECF6",
          "polar": {
           "angularaxis": {
            "gridcolor": "white",
            "linecolor": "white",
            "ticks": ""
           },
           "bgcolor": "#E5ECF6",
           "radialaxis": {
            "gridcolor": "white",
            "linecolor": "white",
            "ticks": ""
           }
          },
          "scene": {
           "xaxis": {
            "backgroundcolor": "#E5ECF6",
            "gridcolor": "white",
            "gridwidth": 2,
            "linecolor": "white",
            "showbackground": true,
            "ticks": "",
            "zerolinecolor": "white"
           },
           "yaxis": {
            "backgroundcolor": "#E5ECF6",
            "gridcolor": "white",
            "gridwidth": 2,
            "linecolor": "white",
            "showbackground": true,
            "ticks": "",
            "zerolinecolor": "white"
           },
           "zaxis": {
            "backgroundcolor": "#E5ECF6",
            "gridcolor": "white",
            "gridwidth": 2,
            "linecolor": "white",
            "showbackground": true,
            "ticks": "",
            "zerolinecolor": "white"
           }
          },
          "shapedefaults": {
           "line": {
            "color": "#2a3f5f"
           }
          },
          "ternary": {
           "aaxis": {
            "gridcolor": "white",
            "linecolor": "white",
            "ticks": ""
           },
           "baxis": {
            "gridcolor": "white",
            "linecolor": "white",
            "ticks": ""
           },
           "bgcolor": "#E5ECF6",
           "caxis": {
            "gridcolor": "white",
            "linecolor": "white",
            "ticks": ""
           }
          },
          "title": {
           "x": 0.05
          },
          "xaxis": {
           "automargin": true,
           "gridcolor": "white",
           "linecolor": "white",
           "ticks": "",
           "title": {
            "standoff": 15
           },
           "zerolinecolor": "white",
           "zerolinewidth": 2
          },
          "yaxis": {
           "automargin": true,
           "gridcolor": "white",
           "linecolor": "white",
           "ticks": "",
           "title": {
            "standoff": 15
           },
           "zerolinecolor": "white",
           "zerolinewidth": 2
          }
         }
        },
        "xaxis": {
         "anchor": "y",
         "domain": [
          0,
          1
         ],
         "title": {
          "text": "x"
         }
        },
        "yaxis": {
         "anchor": "x",
         "domain": [
          0,
          1
         ],
         "title": {
          "text": "y"
         }
        }
       }
      }
     },
     "metadata": {},
     "output_type": "display_data"
    }
   ],
   "source": [
    "import plotly.express as px\n",
    "px.scatter(x=df_2010['avg_years_of_schooling'], y=df_2011['mort_rate_both_sexes'],size=df_2010['mort_rate_both_sexes'])"
   ]
  },
  {
   "cell_type": "code",
   "execution_count": 162,
   "metadata": {},
   "outputs": [
    {
     "data": {
      "text/html": [
       "<div>\n",
       "<style scoped>\n",
       "    .dataframe tbody tr th:only-of-type {\n",
       "        vertical-align: middle;\n",
       "    }\n",
       "\n",
       "    .dataframe tbody tr th {\n",
       "        vertical-align: top;\n",
       "    }\n",
       "\n",
       "    .dataframe thead th {\n",
       "        text-align: right;\n",
       "    }\n",
       "</style>\n",
       "<table border=\"1\" class=\"dataframe\">\n",
       "  <thead>\n",
       "    <tr style=\"text-align: right;\">\n",
       "      <th></th>\n",
       "      <th>Country</th>\n",
       "      <th>Code</th>\n",
       "      <th>Year</th>\n",
       "      <th>avg_years_of_schooling</th>\n",
       "      <th>mort_rate_both_sexes</th>\n",
       "      <th>mort_rate_male</th>\n",
       "      <th>mort_rate_female</th>\n",
       "      <th>Continent</th>\n",
       "    </tr>\n",
       "  </thead>\n",
       "  <tbody>\n",
       "    <tr>\n",
       "      <th>68</th>\n",
       "      <td>Iceland</td>\n",
       "      <td>ISL</td>\n",
       "      <td>2010</td>\n",
       "      <td>10.6</td>\n",
       "      <td>53</td>\n",
       "      <td>67</td>\n",
       "      <td>39</td>\n",
       "      <td>Europe</td>\n",
       "    </tr>\n",
       "    <tr>\n",
       "      <th>144</th>\n",
       "      <td>Switzerland</td>\n",
       "      <td>CHE</td>\n",
       "      <td>2010</td>\n",
       "      <td>13.3</td>\n",
       "      <td>57</td>\n",
       "      <td>71</td>\n",
       "      <td>43</td>\n",
       "      <td>Europe</td>\n",
       "    </tr>\n",
       "    <tr>\n",
       "      <th>74</th>\n",
       "      <td>Italy</td>\n",
       "      <td>ITA</td>\n",
       "      <td>2010</td>\n",
       "      <td>9.7</td>\n",
       "      <td>58</td>\n",
       "      <td>75</td>\n",
       "      <td>41</td>\n",
       "      <td>Europe</td>\n",
       "    </tr>\n",
       "    <tr>\n",
       "      <th>143</th>\n",
       "      <td>Sweden</td>\n",
       "      <td>SWE</td>\n",
       "      <td>2010</td>\n",
       "      <td>12.3</td>\n",
       "      <td>58</td>\n",
       "      <td>72</td>\n",
       "      <td>43</td>\n",
       "      <td>Europe</td>\n",
       "    </tr>\n",
       "    <tr>\n",
       "      <th>95</th>\n",
       "      <td>Malta</td>\n",
       "      <td>MLT</td>\n",
       "      <td>2010</td>\n",
       "      <td>10.3</td>\n",
       "      <td>58</td>\n",
       "      <td>75</td>\n",
       "      <td>41</td>\n",
       "      <td>Europe</td>\n",
       "    </tr>\n",
       "    <tr>\n",
       "      <th>...</th>\n",
       "      <td>...</td>\n",
       "      <td>...</td>\n",
       "      <td>...</td>\n",
       "      <td>...</td>\n",
       "      <td>...</td>\n",
       "      <td>...</td>\n",
       "      <td>...</td>\n",
       "      <td>...</td>\n",
       "    </tr>\n",
       "    <tr>\n",
       "      <th>28</th>\n",
       "      <td>Central African Republic</td>\n",
       "      <td>CAF</td>\n",
       "      <td>2010</td>\n",
       "      <td>3.6</td>\n",
       "      <td>458</td>\n",
       "      <td>468</td>\n",
       "      <td>449</td>\n",
       "      <td>Africa</td>\n",
       "    </tr>\n",
       "    <tr>\n",
       "      <th>85</th>\n",
       "      <td>Lesotho</td>\n",
       "      <td>LSO</td>\n",
       "      <td>2010</td>\n",
       "      <td>5.6</td>\n",
       "      <td>478</td>\n",
       "      <td>520</td>\n",
       "      <td>449</td>\n",
       "      <td>Africa</td>\n",
       "    </tr>\n",
       "    <tr>\n",
       "      <th>161</th>\n",
       "      <td>Zimbabwe</td>\n",
       "      <td>ZWE</td>\n",
       "      <td>2010</td>\n",
       "      <td>7.3</td>\n",
       "      <td>500</td>\n",
       "      <td>534</td>\n",
       "      <td>474</td>\n",
       "      <td>Africa</td>\n",
       "    </tr>\n",
       "    <tr>\n",
       "      <th>49</th>\n",
       "      <td>Eswatini</td>\n",
       "      <td>SWZ</td>\n",
       "      <td>2010</td>\n",
       "      <td>5.7</td>\n",
       "      <td>503</td>\n",
       "      <td>576</td>\n",
       "      <td>441</td>\n",
       "      <td>Africa</td>\n",
       "    </tr>\n",
       "    <tr>\n",
       "      <th>65</th>\n",
       "      <td>Haiti</td>\n",
       "      <td>HTI</td>\n",
       "      <td>2010</td>\n",
       "      <td>4.7</td>\n",
       "      <td>683</td>\n",
       "      <td>769</td>\n",
       "      <td>572</td>\n",
       "      <td>North America</td>\n",
       "    </tr>\n",
       "  </tbody>\n",
       "</table>\n",
       "<p>162 rows × 8 columns</p>\n",
       "</div>"
      ],
      "text/plain": [
       "                      Country Code  Year  avg_years_of_schooling  \\\n",
       "68                    Iceland  ISL  2010                    10.6   \n",
       "144               Switzerland  CHE  2010                    13.3   \n",
       "74                      Italy  ITA  2010                     9.7   \n",
       "143                    Sweden  SWE  2010                    12.3   \n",
       "95                      Malta  MLT  2010                    10.3   \n",
       "..                        ...  ...   ...                     ...   \n",
       "28   Central African Republic  CAF  2010                     3.6   \n",
       "85                    Lesotho  LSO  2010                     5.6   \n",
       "161                  Zimbabwe  ZWE  2010                     7.3   \n",
       "49                   Eswatini  SWZ  2010                     5.7   \n",
       "65                      Haiti  HTI  2010                     4.7   \n",
       "\n",
       "     mort_rate_both_sexes  mort_rate_male  mort_rate_female      Continent  \n",
       "68                     53              67                39         Europe  \n",
       "144                    57              71                43         Europe  \n",
       "74                     58              75                41         Europe  \n",
       "143                    58              72                43         Europe  \n",
       "95                     58              75                41         Europe  \n",
       "..                    ...             ...               ...            ...  \n",
       "28                    458             468               449         Africa  \n",
       "85                    478             520               449         Africa  \n",
       "161                   500             534               474         Africa  \n",
       "49                    503             576               441         Africa  \n",
       "65                    683             769               572  North America  \n",
       "\n",
       "[162 rows x 8 columns]"
      ]
     },
     "execution_count": 162,
     "metadata": {},
     "output_type": "execute_result"
    }
   ],
   "source": [
    "df_2010.sort_values(by='mort_rate_both_sexes')"
   ]
  },
  {
   "cell_type": "code",
   "execution_count": null,
   "metadata": {},
   "outputs": [],
   "source": []
  }
 ],
 "metadata": {
  "kernelspec": {
   "display_name": "Python 3",
   "language": "python",
   "name": "python3"
  },
  "language_info": {
   "codemirror_mode": {
    "name": "ipython",
    "version": 3
   },
   "file_extension": ".py",
   "mimetype": "text/x-python",
   "name": "python",
   "nbconvert_exporter": "python",
   "pygments_lexer": "ipython3",
   "version": "3.10.10"
  },
  "orig_nbformat": 4,
  "vscode": {
   "interpreter": {
    "hash": "b1b36b063993772ac0562bc8d8b6eb957454c97760e4751b586aaa9fa2f1e4a2"
   }
  }
 },
 "nbformat": 4,
 "nbformat_minor": 2
}
